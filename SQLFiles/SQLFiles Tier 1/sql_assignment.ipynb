{
 "cells": [
  {
   "cell_type": "code",
   "execution_count": 1,
   "id": "227ba896",
   "metadata": {},
   "outputs": [
    {
     "name": "stdout",
     "output_type": "stream",
     "text": [
      " Volume in drive A is ABI\n",
      " Volume Serial Number is 5E09-2A7B\n",
      "\n",
      " Directory of A:\\Data_Science\\SpringBoard\\Springboard\\SQLFiles\\SQLFiles Tier 1\n",
      "\n",
      "07/27/2021  11:33 AM    <DIR>          .\n",
      "07/27/2021  11:33 AM    <DIR>          ..\n",
      "07/27/2021  11:33 AM    <DIR>          .ipynb_checkpoints\n",
      "07/27/2021  11:28 AM               991 LocalSQLConnection.py\n",
      "07/27/2021  11:28 AM             1,453 README.md\n",
      "07/27/2021  11:33 AM                72 sql_assignment.ipynb\n",
      "07/27/2021  11:28 AM           217,088 sqlite_db_pythonsqlite.db\n",
      "07/27/2021  11:28 AM             4,207 SQLTasks Tier 1.sql\n",
      "               5 File(s)        223,811 bytes\n",
      "               3 Dir(s)  144,784,691,200 bytes free\n"
     ]
    }
   ],
   "source": [
    "ls"
   ]
  },
  {
   "cell_type": "code",
   "execution_count": 4,
   "id": "07e93ad4",
   "metadata": {},
   "outputs": [
    {
     "name": "stdout",
     "output_type": "stream",
     "text": [
      "2.6.0\n",
      "2. Query all tasks\n",
      "(0, 'Tennis Court 1', 5, 25, 10000, 200)\n",
      "(1, 'Tennis Court 2', 5, 25, 8000, 200)\n",
      "(2, 'Badminton Court', 0, 15.5, 4000, 50)\n",
      "(3, 'Table Tennis', 0, 5, 320, 10)\n",
      "(4, 'Massage Room 1', 9.9, 80, 4000, 3000)\n",
      "(5, 'Massage Room 2', 9.9, 80, 4000, 3000)\n",
      "(6, 'Squash Court', 3.5, 17.5, 5000, 80)\n",
      "(7, 'Snooker Table', 0, 5, 450, 15)\n",
      "(8, 'Pool Table', 0, 5, 400, 15)\n"
     ]
    }
   ],
   "source": [
    "import sqlite3\n",
    "from sqlite3 import Error\n",
    "\n",
    " \n",
    "def create_connection(db_file):\n",
    "    \"\"\" create a database connection to the SQLite database\n",
    "        specified by the db_file\n",
    "    :param db_file: database file\n",
    "    :return: Connection object or None\n",
    "    \"\"\"\n",
    "    conn = None\n",
    "    try:\n",
    "        conn = sqlite3.connect(db_file)\n",
    "        print(sqlite3.version)\n",
    "    except Error as e:\n",
    "        print(e)\n",
    " \n",
    "    return conn\n",
    "\n",
    " \n",
    "def select_all_tasks(conn):\n",
    "    \"\"\"\n",
    "    Query all rows in the tasks table\n",
    "    :param conn: the Connection object\n",
    "    :return:\n",
    "    \"\"\"\n",
    "    cur = conn.cursor()\n",
    "    \n",
    "    query1 = \"\"\"\n",
    "        SELECT *\n",
    "        FROM FACILITIES\n",
    "        \"\"\"\n",
    "    cur.execute(query1)\n",
    " \n",
    "    rows = cur.fetchall()\n",
    " \n",
    "    for row in rows:\n",
    "        print(row)\n",
    "\n",
    "\n",
    "def main():\n",
    "    database = \"sqlite_db_pythonsqlite.db\"\n",
    " \n",
    "    # create a database connection\n",
    "    conn = create_connection(database)\n",
    "    with conn: \n",
    "        print(\"2. Query all tasks\")\n",
    "        select_all_tasks(conn)\n",
    " \n",
    " \n",
    "if __name__ == '__main__':\n",
    "    main()"
   ]
  },
  {
   "cell_type": "code",
   "execution_count": 5,
   "id": "f6670d96",
   "metadata": {},
   "outputs": [
    {
     "ename": "SyntaxError",
     "evalue": "invalid syntax (<ipython-input-5-fcd3ffa94810>, line 1)",
     "output_type": "error",
     "traceback": [
      "\u001b[1;36m  File \u001b[1;32m\"<ipython-input-5-fcd3ffa94810>\"\u001b[1;36m, line \u001b[1;32m1\u001b[0m\n\u001b[1;33m    SELECT sub.name, SUM( sub.revenue ) AS revenue\u001b[0m\n\u001b[1;37m           ^\u001b[0m\n\u001b[1;31mSyntaxError\u001b[0m\u001b[1;31m:\u001b[0m invalid syntax\n"
     ]
    }
   ],
   "source": [
    "SELECT sub.name, SUM( sub.revenue ) AS revenue\n",
    "FROM (\n",
    "SELECT b.facid, b.memid, f.name, f.guestcost, f.membercost, COUNT( b.facid ) AS facid_count,\n",
    "CASE\n",
    "WHEN b.memid =0\n",
    "THEN COUNT( b.facid ) * f.guestcost\n",
    "ELSE COUNT( b.facid ) * f.membercost\n",
    "END AS 'revenue'\n",
    "FROM Bookings AS b\n",
    "LEFT JOIN Facilities AS f ON b.facid = f.facid\n",
    "GROUP BY b.facid, b.memid\n",
    ") AS sub\n",
    "GROUP BY sub.facid\n",
    "HAVING revenue <=1000;"
   ]
  },
  {
   "cell_type": "code",
   "execution_count": null,
   "id": "cdcd04b7",
   "metadata": {},
   "outputs": [],
   "source": []
  }
 ],
 "metadata": {
  "kernelspec": {
   "display_name": "Python 3",
   "language": "python",
   "name": "python3"
  },
  "language_info": {
   "codemirror_mode": {
    "name": "ipython",
    "version": 3
   },
   "file_extension": ".py",
   "mimetype": "text/x-python",
   "name": "python",
   "nbconvert_exporter": "python",
   "pygments_lexer": "ipython3",
   "version": "3.8.8"
  }
 },
 "nbformat": 4,
 "nbformat_minor": 5
}
